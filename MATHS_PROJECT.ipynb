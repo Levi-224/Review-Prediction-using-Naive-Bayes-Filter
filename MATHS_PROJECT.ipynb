{
  "cells": [
    {
      "cell_type": "markdown",
      "source": [
        "# **REVIEW PREDICTION USING NAIVE BAYES CLASSIFIER**\n",
        "\n",
        "**GROUP MEMBERS :**\n",
        "\n",
        "Parvathy G Pillai [AM.EN.U4AIE21150]\n",
        "\n",
        "S Anand [AM.EN.U4AIE21155]"
      ],
      "metadata": {
        "id": "FF7-s-KgG73X"
      }
    },
    {
      "cell_type": "markdown",
      "metadata": {
        "id": "Ud8-du7RhYoV"
      },
      "source": [
        "**LOADING AND CHECKING DATA**"
      ]
    },
    {
      "cell_type": "code",
      "execution_count": null,
      "metadata": {
        "colab": {
          "base_uri": "https://localhost:8080/"
        },
        "id": "6WDU9io9dXd2",
        "outputId": "8d4f9cdb-014a-4eb5-c743-4cd55f5588a8"
      },
      "outputs": [
        {
          "output_type": "stream",
          "name": "stdout",
          "text": [
            "Requirement already satisfied: scikit-plot in /usr/local/lib/python3.10/dist-packages (0.3.7)\n",
            "Requirement already satisfied: matplotlib>=1.4.0 in /usr/local/lib/python3.10/dist-packages (from scikit-plot) (3.7.1)\n",
            "Requirement already satisfied: scikit-learn>=0.18 in /usr/local/lib/python3.10/dist-packages (from scikit-plot) (1.2.2)\n",
            "Requirement already satisfied: scipy>=0.9 in /usr/local/lib/python3.10/dist-packages (from scikit-plot) (1.11.4)\n",
            "Requirement already satisfied: joblib>=0.10 in /usr/local/lib/python3.10/dist-packages (from scikit-plot) (1.3.2)\n",
            "Requirement already satisfied: contourpy>=1.0.1 in /usr/local/lib/python3.10/dist-packages (from matplotlib>=1.4.0->scikit-plot) (1.2.0)\n",
            "Requirement already satisfied: cycler>=0.10 in /usr/local/lib/python3.10/dist-packages (from matplotlib>=1.4.0->scikit-plot) (0.12.1)\n",
            "Requirement already satisfied: fonttools>=4.22.0 in /usr/local/lib/python3.10/dist-packages (from matplotlib>=1.4.0->scikit-plot) (4.47.2)\n",
            "Requirement already satisfied: kiwisolver>=1.0.1 in /usr/local/lib/python3.10/dist-packages (from matplotlib>=1.4.0->scikit-plot) (1.4.5)\n",
            "Requirement already satisfied: numpy>=1.20 in /usr/local/lib/python3.10/dist-packages (from matplotlib>=1.4.0->scikit-plot) (1.23.5)\n",
            "Requirement already satisfied: packaging>=20.0 in /usr/local/lib/python3.10/dist-packages (from matplotlib>=1.4.0->scikit-plot) (23.2)\n",
            "Requirement already satisfied: pillow>=6.2.0 in /usr/local/lib/python3.10/dist-packages (from matplotlib>=1.4.0->scikit-plot) (9.4.0)\n",
            "Requirement already satisfied: pyparsing>=2.3.1 in /usr/local/lib/python3.10/dist-packages (from matplotlib>=1.4.0->scikit-plot) (3.1.1)\n",
            "Requirement already satisfied: python-dateutil>=2.7 in /usr/local/lib/python3.10/dist-packages (from matplotlib>=1.4.0->scikit-plot) (2.8.2)\n",
            "Requirement already satisfied: threadpoolctl>=2.0.0 in /usr/local/lib/python3.10/dist-packages (from scikit-learn>=0.18->scikit-plot) (3.2.0)\n",
            "Requirement already satisfied: six>=1.5 in /usr/local/lib/python3.10/dist-packages (from python-dateutil>=2.7->matplotlib>=1.4.0->scikit-plot) (1.16.0)\n"
          ]
        }
      ],
      "source": [
        "!pip install scikit-plot  #plotting graphs and charts\n",
        "import numpy as np        #calculations on matrices\n",
        "import pandas as pd       #importing dataset & doing other ops on dataset\n",
        "import matplotlib.pyplot as plt   #plot graphs\n",
        "import scikitplot.metrics as skplt\n",
        "from sklearn.metrics import classification_report,confusion_matrix, accuracy_score\n",
        "import warnings\n",
        "warnings.filterwarnings('ignore')\n",
        "import seaborn as sn"
      ]
    },
    {
      "cell_type": "code",
      "execution_count": null,
      "metadata": {
        "colab": {
          "base_uri": "https://localhost:8080/"
        },
        "id": "UmlJPn7Sf_Uh",
        "outputId": "75194f4a-ad07-45cc-cd91-15861afca09e"
      },
      "outputs": [
        {
          "output_type": "stream",
          "name": "stdout",
          "text": [
            "Drive already mounted at /content/drive; to attempt to forcibly remount, call drive.mount(\"/content/drive\", force_remount=True).\n"
          ]
        }
      ],
      "source": [
        "from google.colab import drive\n",
        "drive.mount('/content/drive')"
      ]
    },
    {
      "cell_type": "code",
      "execution_count": null,
      "metadata": {
        "colab": {
          "base_uri": "https://localhost:8080/"
        },
        "id": "vjXZOl6vgztd",
        "outputId": "ba21019d-e8e4-4b9d-e922-0fcbbc5ad19a"
      },
      "outputs": [
        {
          "output_type": "execute_result",
          "data": {
            "text/plain": [
              "(568454, 10)"
            ]
          },
          "metadata": {},
          "execution_count": 39
        }
      ],
      "source": [
        "df=pd.read_csv('/content/drive/MyDrive/Reviews.csv')\n",
        "df.shape"
      ]
    },
    {
      "cell_type": "code",
      "execution_count": null,
      "metadata": {
        "colab": {
          "base_uri": "https://localhost:8080/",
          "height": 293
        },
        "id": "8YrOdHR0hP4z",
        "outputId": "1957a95a-1943-4de3-958e-ff13bac2a443"
      },
      "outputs": [
        {
          "output_type": "execute_result",
          "data": {
            "text/plain": [
              "   Id   ProductId          UserId                      ProfileName  \\\n",
              "0   1  B001E4KFG0  A3SGXH7AUHU8GW                       delmartian   \n",
              "1   2  B00813GRG4  A1D87F6ZCVE5NK                           dll pa   \n",
              "2   3  B000LQOCH0   ABXLMWJIXXAIN  Natalia Corres \"Natalia Corres\"   \n",
              "3   4  B000UA0QIQ  A395BORC6FGVXV                             Karl   \n",
              "4   5  B006K2ZZ7K  A1UQRSCLF8GW1T    Michael D. Bigham \"M. Wassir\"   \n",
              "\n",
              "   HelpfulnessNumerator  HelpfulnessDenominator  Score        Time  \\\n",
              "0                     1                       1      5  1303862400   \n",
              "1                     0                       0      1  1346976000   \n",
              "2                     1                       1      4  1219017600   \n",
              "3                     3                       3      2  1307923200   \n",
              "4                     0                       0      5  1350777600   \n",
              "\n",
              "                 Summary                                               Text  \n",
              "0  Good Quality Dog Food  I have bought several of the Vitality canned d...  \n",
              "1      Not as Advertised  Product arrived labeled as Jumbo Salted Peanut...  \n",
              "2  \"Delight\" says it all  This is a confection that has been around a fe...  \n",
              "3         Cough Medicine  If you are looking for the secret ingredient i...  \n",
              "4            Great taffy  Great taffy at a great price.  There was a wid...  "
            ],
            "text/html": [
              "\n",
              "  <div id=\"df-2b515437-0c9a-4bf0-821e-9110dfa6a9ba\" class=\"colab-df-container\">\n",
              "    <div>\n",
              "<style scoped>\n",
              "    .dataframe tbody tr th:only-of-type {\n",
              "        vertical-align: middle;\n",
              "    }\n",
              "\n",
              "    .dataframe tbody tr th {\n",
              "        vertical-align: top;\n",
              "    }\n",
              "\n",
              "    .dataframe thead th {\n",
              "        text-align: right;\n",
              "    }\n",
              "</style>\n",
              "<table border=\"1\" class=\"dataframe\">\n",
              "  <thead>\n",
              "    <tr style=\"text-align: right;\">\n",
              "      <th></th>\n",
              "      <th>Id</th>\n",
              "      <th>ProductId</th>\n",
              "      <th>UserId</th>\n",
              "      <th>ProfileName</th>\n",
              "      <th>HelpfulnessNumerator</th>\n",
              "      <th>HelpfulnessDenominator</th>\n",
              "      <th>Score</th>\n",
              "      <th>Time</th>\n",
              "      <th>Summary</th>\n",
              "      <th>Text</th>\n",
              "    </tr>\n",
              "  </thead>\n",
              "  <tbody>\n",
              "    <tr>\n",
              "      <th>0</th>\n",
              "      <td>1</td>\n",
              "      <td>B001E4KFG0</td>\n",
              "      <td>A3SGXH7AUHU8GW</td>\n",
              "      <td>delmartian</td>\n",
              "      <td>1</td>\n",
              "      <td>1</td>\n",
              "      <td>5</td>\n",
              "      <td>1303862400</td>\n",
              "      <td>Good Quality Dog Food</td>\n",
              "      <td>I have bought several of the Vitality canned d...</td>\n",
              "    </tr>\n",
              "    <tr>\n",
              "      <th>1</th>\n",
              "      <td>2</td>\n",
              "      <td>B00813GRG4</td>\n",
              "      <td>A1D87F6ZCVE5NK</td>\n",
              "      <td>dll pa</td>\n",
              "      <td>0</td>\n",
              "      <td>0</td>\n",
              "      <td>1</td>\n",
              "      <td>1346976000</td>\n",
              "      <td>Not as Advertised</td>\n",
              "      <td>Product arrived labeled as Jumbo Salted Peanut...</td>\n",
              "    </tr>\n",
              "    <tr>\n",
              "      <th>2</th>\n",
              "      <td>3</td>\n",
              "      <td>B000LQOCH0</td>\n",
              "      <td>ABXLMWJIXXAIN</td>\n",
              "      <td>Natalia Corres \"Natalia Corres\"</td>\n",
              "      <td>1</td>\n",
              "      <td>1</td>\n",
              "      <td>4</td>\n",
              "      <td>1219017600</td>\n",
              "      <td>\"Delight\" says it all</td>\n",
              "      <td>This is a confection that has been around a fe...</td>\n",
              "    </tr>\n",
              "    <tr>\n",
              "      <th>3</th>\n",
              "      <td>4</td>\n",
              "      <td>B000UA0QIQ</td>\n",
              "      <td>A395BORC6FGVXV</td>\n",
              "      <td>Karl</td>\n",
              "      <td>3</td>\n",
              "      <td>3</td>\n",
              "      <td>2</td>\n",
              "      <td>1307923200</td>\n",
              "      <td>Cough Medicine</td>\n",
              "      <td>If you are looking for the secret ingredient i...</td>\n",
              "    </tr>\n",
              "    <tr>\n",
              "      <th>4</th>\n",
              "      <td>5</td>\n",
              "      <td>B006K2ZZ7K</td>\n",
              "      <td>A1UQRSCLF8GW1T</td>\n",
              "      <td>Michael D. Bigham \"M. Wassir\"</td>\n",
              "      <td>0</td>\n",
              "      <td>0</td>\n",
              "      <td>5</td>\n",
              "      <td>1350777600</td>\n",
              "      <td>Great taffy</td>\n",
              "      <td>Great taffy at a great price.  There was a wid...</td>\n",
              "    </tr>\n",
              "  </tbody>\n",
              "</table>\n",
              "</div>\n",
              "    <div class=\"colab-df-buttons\">\n",
              "\n",
              "  <div class=\"colab-df-container\">\n",
              "    <button class=\"colab-df-convert\" onclick=\"convertToInteractive('df-2b515437-0c9a-4bf0-821e-9110dfa6a9ba')\"\n",
              "            title=\"Convert this dataframe to an interactive table.\"\n",
              "            style=\"display:none;\">\n",
              "\n",
              "  <svg xmlns=\"http://www.w3.org/2000/svg\" height=\"24px\" viewBox=\"0 -960 960 960\">\n",
              "    <path d=\"M120-120v-720h720v720H120Zm60-500h600v-160H180v160Zm220 220h160v-160H400v160Zm0 220h160v-160H400v160ZM180-400h160v-160H180v160Zm440 0h160v-160H620v160ZM180-180h160v-160H180v160Zm440 0h160v-160H620v160Z\"/>\n",
              "  </svg>\n",
              "    </button>\n",
              "\n",
              "  <style>\n",
              "    .colab-df-container {\n",
              "      display:flex;\n",
              "      gap: 12px;\n",
              "    }\n",
              "\n",
              "    .colab-df-convert {\n",
              "      background-color: #E8F0FE;\n",
              "      border: none;\n",
              "      border-radius: 50%;\n",
              "      cursor: pointer;\n",
              "      display: none;\n",
              "      fill: #1967D2;\n",
              "      height: 32px;\n",
              "      padding: 0 0 0 0;\n",
              "      width: 32px;\n",
              "    }\n",
              "\n",
              "    .colab-df-convert:hover {\n",
              "      background-color: #E2EBFA;\n",
              "      box-shadow: 0px 1px 2px rgba(60, 64, 67, 0.3), 0px 1px 3px 1px rgba(60, 64, 67, 0.15);\n",
              "      fill: #174EA6;\n",
              "    }\n",
              "\n",
              "    .colab-df-buttons div {\n",
              "      margin-bottom: 4px;\n",
              "    }\n",
              "\n",
              "    [theme=dark] .colab-df-convert {\n",
              "      background-color: #3B4455;\n",
              "      fill: #D2E3FC;\n",
              "    }\n",
              "\n",
              "    [theme=dark] .colab-df-convert:hover {\n",
              "      background-color: #434B5C;\n",
              "      box-shadow: 0px 1px 3px 1px rgba(0, 0, 0, 0.15);\n",
              "      filter: drop-shadow(0px 1px 2px rgba(0, 0, 0, 0.3));\n",
              "      fill: #FFFFFF;\n",
              "    }\n",
              "  </style>\n",
              "\n",
              "    <script>\n",
              "      const buttonEl =\n",
              "        document.querySelector('#df-2b515437-0c9a-4bf0-821e-9110dfa6a9ba button.colab-df-convert');\n",
              "      buttonEl.style.display =\n",
              "        google.colab.kernel.accessAllowed ? 'block' : 'none';\n",
              "\n",
              "      async function convertToInteractive(key) {\n",
              "        const element = document.querySelector('#df-2b515437-0c9a-4bf0-821e-9110dfa6a9ba');\n",
              "        const dataTable =\n",
              "          await google.colab.kernel.invokeFunction('convertToInteractive',\n",
              "                                                    [key], {});\n",
              "        if (!dataTable) return;\n",
              "\n",
              "        const docLinkHtml = 'Like what you see? Visit the ' +\n",
              "          '<a target=\"_blank\" href=https://colab.research.google.com/notebooks/data_table.ipynb>data table notebook</a>'\n",
              "          + ' to learn more about interactive tables.';\n",
              "        element.innerHTML = '';\n",
              "        dataTable['output_type'] = 'display_data';\n",
              "        await google.colab.output.renderOutput(dataTable, element);\n",
              "        const docLink = document.createElement('div');\n",
              "        docLink.innerHTML = docLinkHtml;\n",
              "        element.appendChild(docLink);\n",
              "      }\n",
              "    </script>\n",
              "  </div>\n",
              "\n",
              "\n",
              "<div id=\"df-719adeee-1756-4260-89a0-c651da2f09a0\">\n",
              "  <button class=\"colab-df-quickchart\" onclick=\"quickchart('df-719adeee-1756-4260-89a0-c651da2f09a0')\"\n",
              "            title=\"Suggest charts\"\n",
              "            style=\"display:none;\">\n",
              "\n",
              "<svg xmlns=\"http://www.w3.org/2000/svg\" height=\"24px\"viewBox=\"0 0 24 24\"\n",
              "     width=\"24px\">\n",
              "    <g>\n",
              "        <path d=\"M19 3H5c-1.1 0-2 .9-2 2v14c0 1.1.9 2 2 2h14c1.1 0 2-.9 2-2V5c0-1.1-.9-2-2-2zM9 17H7v-7h2v7zm4 0h-2V7h2v10zm4 0h-2v-4h2v4z\"/>\n",
              "    </g>\n",
              "</svg>\n",
              "  </button>\n",
              "\n",
              "<style>\n",
              "  .colab-df-quickchart {\n",
              "      --bg-color: #E8F0FE;\n",
              "      --fill-color: #1967D2;\n",
              "      --hover-bg-color: #E2EBFA;\n",
              "      --hover-fill-color: #174EA6;\n",
              "      --disabled-fill-color: #AAA;\n",
              "      --disabled-bg-color: #DDD;\n",
              "  }\n",
              "\n",
              "  [theme=dark] .colab-df-quickchart {\n",
              "      --bg-color: #3B4455;\n",
              "      --fill-color: #D2E3FC;\n",
              "      --hover-bg-color: #434B5C;\n",
              "      --hover-fill-color: #FFFFFF;\n",
              "      --disabled-bg-color: #3B4455;\n",
              "      --disabled-fill-color: #666;\n",
              "  }\n",
              "\n",
              "  .colab-df-quickchart {\n",
              "    background-color: var(--bg-color);\n",
              "    border: none;\n",
              "    border-radius: 50%;\n",
              "    cursor: pointer;\n",
              "    display: none;\n",
              "    fill: var(--fill-color);\n",
              "    height: 32px;\n",
              "    padding: 0;\n",
              "    width: 32px;\n",
              "  }\n",
              "\n",
              "  .colab-df-quickchart:hover {\n",
              "    background-color: var(--hover-bg-color);\n",
              "    box-shadow: 0 1px 2px rgba(60, 64, 67, 0.3), 0 1px 3px 1px rgba(60, 64, 67, 0.15);\n",
              "    fill: var(--button-hover-fill-color);\n",
              "  }\n",
              "\n",
              "  .colab-df-quickchart-complete:disabled,\n",
              "  .colab-df-quickchart-complete:disabled:hover {\n",
              "    background-color: var(--disabled-bg-color);\n",
              "    fill: var(--disabled-fill-color);\n",
              "    box-shadow: none;\n",
              "  }\n",
              "\n",
              "  .colab-df-spinner {\n",
              "    border: 2px solid var(--fill-color);\n",
              "    border-color: transparent;\n",
              "    border-bottom-color: var(--fill-color);\n",
              "    animation:\n",
              "      spin 1s steps(1) infinite;\n",
              "  }\n",
              "\n",
              "  @keyframes spin {\n",
              "    0% {\n",
              "      border-color: transparent;\n",
              "      border-bottom-color: var(--fill-color);\n",
              "      border-left-color: var(--fill-color);\n",
              "    }\n",
              "    20% {\n",
              "      border-color: transparent;\n",
              "      border-left-color: var(--fill-color);\n",
              "      border-top-color: var(--fill-color);\n",
              "    }\n",
              "    30% {\n",
              "      border-color: transparent;\n",
              "      border-left-color: var(--fill-color);\n",
              "      border-top-color: var(--fill-color);\n",
              "      border-right-color: var(--fill-color);\n",
              "    }\n",
              "    40% {\n",
              "      border-color: transparent;\n",
              "      border-right-color: var(--fill-color);\n",
              "      border-top-color: var(--fill-color);\n",
              "    }\n",
              "    60% {\n",
              "      border-color: transparent;\n",
              "      border-right-color: var(--fill-color);\n",
              "    }\n",
              "    80% {\n",
              "      border-color: transparent;\n",
              "      border-right-color: var(--fill-color);\n",
              "      border-bottom-color: var(--fill-color);\n",
              "    }\n",
              "    90% {\n",
              "      border-color: transparent;\n",
              "      border-bottom-color: var(--fill-color);\n",
              "    }\n",
              "  }\n",
              "</style>\n",
              "\n",
              "  <script>\n",
              "    async function quickchart(key) {\n",
              "      const quickchartButtonEl =\n",
              "        document.querySelector('#' + key + ' button');\n",
              "      quickchartButtonEl.disabled = true;  // To prevent multiple clicks.\n",
              "      quickchartButtonEl.classList.add('colab-df-spinner');\n",
              "      try {\n",
              "        const charts = await google.colab.kernel.invokeFunction(\n",
              "            'suggestCharts', [key], {});\n",
              "      } catch (error) {\n",
              "        console.error('Error during call to suggestCharts:', error);\n",
              "      }\n",
              "      quickchartButtonEl.classList.remove('colab-df-spinner');\n",
              "      quickchartButtonEl.classList.add('colab-df-quickchart-complete');\n",
              "    }\n",
              "    (() => {\n",
              "      let quickchartButtonEl =\n",
              "        document.querySelector('#df-719adeee-1756-4260-89a0-c651da2f09a0 button');\n",
              "      quickchartButtonEl.style.display =\n",
              "        google.colab.kernel.accessAllowed ? 'block' : 'none';\n",
              "    })();\n",
              "  </script>\n",
              "</div>\n",
              "\n",
              "    </div>\n",
              "  </div>\n"
            ]
          },
          "metadata": {},
          "execution_count": 40
        }
      ],
      "source": [
        "df.head()"
      ]
    },
    {
      "cell_type": "markdown",
      "metadata": {
        "id": "wvicngOfhdJT"
      },
      "source": [
        "**DATA PREPROCESSING**"
      ]
    },
    {
      "cell_type": "markdown",
      "metadata": {
        "id": "xs5QtaqICkJ4"
      },
      "source": [
        "Segregating data as positive and negative\n"
      ]
    },
    {
      "cell_type": "code",
      "execution_count": null,
      "metadata": {
        "id": "fw_ZkfnThTiU"
      },
      "outputs": [],
      "source": [
        "# Here we are replacing review score 1,2 as negative and 4,5 as a positive. we are skipping review score 3 considering it as a neutral.\n",
        "def partition(x):\n",
        "    if int(x)<3:\n",
        "        return 'negative'\n",
        "    return 'positive'\n",
        "\n",
        "actualScore = df['Score']\n",
        "positiveNegative = actualScore.map(partition)\n",
        "df['Score'] = positiveNegative"
      ]
    },
    {
      "cell_type": "markdown",
      "metadata": {
        "id": "zQNM1OmPEbTH"
      },
      "source": [
        "Sorting data for time based splitting for model train and test dataset"
      ]
    },
    {
      "cell_type": "code",
      "execution_count": null,
      "metadata": {
        "colab": {
          "background_save": true
        },
        "id": "SFfLHkmwERTO",
        "outputId": "517d995d-a2db-4b00-aa12-23fbab2c6ab2"
      },
      "outputs": [
        {
          "name": "stdout",
          "output_type": "stream",
          "text": [
            "(118761, 10)\n"
          ]
        },
        {
          "data": {
            "text/plain": [
              "<Axes: >"
            ]
          },
          "execution_count": 24,
          "metadata": {},
          "output_type": "execute_result"
        },
        {
          "data": {
            "image/png": "[encoded data removed]",
            "text/plain": [
              "<Figure size 640x480 with 1 Axes>"
            ]
          },
          "metadata": {},
          "output_type": "display_data"
        }
      ],
      "source": [
        "import datetime\n",
        "\n",
        "df[\"Time\"] = df[\"Time\"].map(lambda t: datetime.datetime.fromtimestamp(int(t)).strftime('%Y-%m-%d %H:%M:%S')) #Converting time in dataset to a readable format\n",
        "\n",
        "sortedData = df.sort_values('ProductId',axis=0,kind=\"quicksort\", ascending=True) #Sorting df using productid\n",
        "final = sortedData.drop_duplicates(subset={\"UserId\",\"ProfileName\",\"Time\",\"Text\"},keep=\"first\",inplace=False) #Dropping dupes based on a combination of columns: \"UserId,\" \"ProfileName,\" \"Time,\" and \"Text.\" Only the first occurrence is kept\n",
        "\n",
        "final = final[final.HelpfulnessNumerator <= final.HelpfulnessDenominator]\n",
        "#Rows with HelpfulnessNumerator greater than HelpfulnessDenominator are removed\n",
        "#As data is huge, due to computation limitation we will randomly select data. we will try to pick data in a way so that it doesn't make data imbalance problem\n",
        "finalp = final[final.Score == 'positive']\n",
        "finalp = finalp.sample(frac=0.2,random_state=1) #0.055\n",
        "\n",
        "finaln = final[final.Score == 'negative']\n",
        "finaln = finaln.sample(frac=0.9,random_state=1) #0.25\n",
        "\n",
        "final = pd.concat([finalp,finaln],axis=0)\n",
        "\n",
        "#sording data by timestamp so that it can be devided in train and test dataset for time based slicing.\n",
        "final = final.sort_values('Time',axis=0,kind=\"quicksort\", ascending=True).reset_index(drop=True)\n",
        "\n",
        "print(final.shape)\n",
        "final['Score'].value_counts().plot(kind='bar')"
      ]
    },
    {
      "cell_type": "markdown",
      "metadata": {
        "id": "Y1T62WBwCwWs"
      },
      "source": [
        "Removing Stop-words\n",
        "\n",
        "Remove any punctuations or limited set of special characters like , or . or # etc.\n",
        "\n",
        "Snowball Stemming the word\n",
        "\n",
        "Convert the word to lowercase"
      ]
    },
    {
      "cell_type": "code",
      "execution_count": null,
      "metadata": {
        "colab": {
          "background_save": true
        },
        "id": "lAVMSMukCwxe",
        "outputId": "8e985c57-a110-46f8-af3e-dc624e19c123"
      },
      "outputs": [
        {
          "name": "stdout",
          "output_type": "stream",
          "text": [
            "Requirement already satisfied: nltk in /usr/local/lib/python3.10/dist-packages (3.8.1)\n",
            "Requirement already satisfied: click in /usr/local/lib/python3.10/dist-packages (from nltk) (8.1.7)\n",
            "Requirement already satisfied: joblib in /usr/local/lib/python3.10/dist-packages (from nltk) (1.3.2)\n",
            "Requirement already satisfied: regex>=2021.8.3 in /usr/local/lib/python3.10/dist-packages (from nltk) (2023.6.3)\n",
            "Requirement already satisfied: tqdm in /usr/local/lib/python3.10/dist-packages (from nltk) (4.66.1)\n"
          ]
        },
        {
          "name": "stderr",
          "output_type": "stream",
          "text": [
            "[nltk_data] Downloading package stopwords to /root/nltk_data...\n",
            "[nltk_data]   Unzipping corpora/stopwords.zip.\n"
          ]
        }
      ],
      "source": [
        "!pip install nltk #natural language processing tasks\n",
        "import re #text cleaning\n",
        "import string\n",
        "import nltk\n",
        "nltk.download('stopwords')\n",
        "from nltk.corpus import stopwords\n",
        "from nltk.stem import PorterStemmer\n",
        "from nltk.stem.wordnet import WordNetLemmatizer\n",
        "\n",
        "stop = set(stopwords.words('english')) #set of stopwords\n",
        "sno = nltk.stem.SnowballStemmer('english') #initialising the snowball stemmer\n",
        "\n",
        "def cleanhtml(sentence): #function to clean the word of any html-tags\n",
        "    cleanr = re.compile('<.*?>')\n",
        "    cleantext = re.sub(cleanr, ' ', sentence)\n",
        "    return cleantext\n",
        "def cleanpunc(sentence): #function to clean the word of any punctuation or special characters\n",
        "    cleaned = re.sub(r'[?|!|\\'|\"|#]',r'',sentence)\n",
        "    cleaned = re.sub(r'[.|,|)|(|\\|/]',r' ',cleaned)\n",
        "    return  cleaned\n",
        "\n",
        "i=0\n",
        "str1=' '\n",
        "final_string=[]\n",
        "all_positive_words=[] # store words from +ve reviews here\n",
        "all_negative_words=[] # store words from -ve reviews here.\n",
        "s=''\n",
        "for sent in final['Text'].values:\n",
        "    filtered_sentence=[]\n",
        "    #print(sent);\n",
        "    sent=cleanhtml(sent) # remove HTMl tags\n",
        "    for w in sent.split():\n",
        "        for cleaned_words in cleanpunc(w).split():\n",
        "            if((cleaned_words.isalpha()) & (len(cleaned_words)>2)):\n",
        "                if(cleaned_words.lower() not in stop):\n",
        "                    s=(sno.stem(cleaned_words.lower())).encode('utf8') #snowball stemming the words - running,runner,ran all have same stem:run\n",
        "                    filtered_sentence.append(s)\n",
        "                    if (final['Score'].values)[i] == 'positive':\n",
        "                        all_positive_words.append(s) #list of all words used to describe positive reviews\n",
        "                    if(final['Score'].values)[i] == 'negative':\n",
        "                        all_negative_words.append(s) #list of all words used to describe negative reviews reviews\n",
        "                else:\n",
        "                    continue\n",
        "            else:\n",
        "                continue\n",
        "    str1 = b\" \".join(filtered_sentence) #final string of cleaned words\n",
        "    final_string.append(str1)\n",
        "    i+=1"
      ]
    },
    {
      "cell_type": "markdown",
      "metadata": {
        "id": "6ZsAMjQwFsht"
      },
      "source": [
        "**Building function to find optimal Alpha for Naive Bayes**"
      ]
    },
    {
      "cell_type": "code",
      "execution_count": null,
      "metadata": {
        "id": "nAuym9ZqFwyI"
      },
      "outputs": [],
      "source": [
        "from sklearn.model_selection import train_test_split\n",
        "\n",
        "def find_optimal_k(X_train,y_train, myList):  #Used to find the optimal value of the hyperparameter alpha for a Naive Bayes classifier\n",
        "\n",
        "    # empty list that will hold scores\n",
        "    scores = []\n",
        "\n",
        "    # split the training data set into train and test\n",
        "    X_tr, X_cv, y_tr, y_cv = train_test_split(X_train, y_train, test_size=0.3)\n",
        "\n",
        "    for i in myList:\n",
        "        nb = MultinomialNB(alpha = i) #model with each of the alpha values in the list\n",
        "        model = nb.fit(X_tr, y_tr) #trains the model with the selected alpha value\n",
        "\n",
        "        # predict the response on the training dataset\n",
        "        pred = model.predict(X_cv)\n",
        "\n",
        "        # evaluate accuracy of the prediction using selected alpha value\n",
        "        acc = accuracy_score(y_cv, pred, normalize=True)\n",
        "        scores.append(acc)\n",
        "\n",
        "    # changing to misclassification error\n",
        "    MSE = [1 - x for x in scores]\n",
        "\n",
        "    # determining best alpha\n",
        "    optimal_alpha = myList[MSE.index(min(MSE))]#it selects the alpha from the original list myList that resulted in the minimum misclassification error during the loop over different alpha values\n",
        "    print('\\nThe optimal alpha is ', optimal_alpha)\n",
        "\n",
        "\n",
        "    plt.figure(figsize=(10,6))\n",
        "    plt.plot(myList,MSE,color='blue', linestyle='dashed', marker='o',\n",
        "             markerfacecolor='red', markersize=10)\n",
        "    plt.title('Error Rate vs. alpha Value')\n",
        "    plt.xlabel('alpha')\n",
        "    plt.ylabel('Error Rate')\n",
        "\n",
        "    print(\"the misclassification error for each k value is : \", np.round(MSE,3))\n",
        "\n",
        "    return optimal_alpha"
      ]
    },
    {
      "cell_type": "markdown",
      "metadata": {
        "id": "rA3SN-miH4CI"
      },
      "source": [
        "**APPLYING NAIVE BAYES WITH BAG OF WORDS**"
      ]
    },
    {
      "cell_type": "code",
      "execution_count": null,
      "metadata": {
        "id": "TtEBFrr-GxU5"
      },
      "outputs": [],
      "source": [
        "from sklearn.feature_extraction.text import CountVectorizer#This line imports the CountVectorizer class from the sklearn.feature_extraction.text module. CountVectorizer is a tool in scikit-learn used for converting a collection of text documents to a matrix of token counts.\n",
        "\n",
        "#count_vect = CountVectorizer(ngram_range=(1,2) )\n",
        "count_vect = CountVectorizer()#This line creates an instance of the CountVectorizer class. By default, it will tokenize the input text and convert it into a bag-of-words representation, where each word is represented by a unique integer.\n",
        "\n",
        "final_bow_count = count_vect.fit_transform(final_string)#final['Text'].values)\n",
        "\n",
        "from sklearn.preprocessing import StandardScaler# The StandardScaler is used for standardizing bow.\n",
        "\n",
        "final_bow_np = StandardScaler(with_mean=False).fit_transform(final_bow_count )\n",
        "# The with_mean=False argument indicates that the data is sparse, and it avoids centering the sparse data, as it can be computationally expensive."
      ]
    },
    {
      "cell_type": "markdown",
      "metadata": {
        "id": "bjmaGxhmIGi-"
      },
      "source": [
        "Splitting Data into Train and Test based on the timestamp of review\n",
        "\n"
      ]
    },
    {
      "cell_type": "code",
      "execution_count": null,
      "metadata": {
        "id": "smEaG3eiIHG4"
      },
      "outputs": [],
      "source": [
        "#We already have sorted data by timestamp so we will use first 70% of data as Train with cross validation and next 30% for test\n",
        "##In this code snippet, the dataset is split into training and testing sets based on the already sorted data by timestamp. The first 70% of the data is used for training, and the remaining 30% is used for testing.\n",
        "import math\n",
        "from sklearn import datasets\n",
        "from sklearn.neighbors import KNeighborsClassifier\n",
        "from sklearn.model_selection import train_test_split\n",
        "\n",
        "\n",
        "X = final_bow_np  #Bag of words created from the cleaned sentences\n",
        "y = final['Score'] #score taken from the final dataframe\n",
        "\n",
        "X_train =  final_bow_np[:math.ceil(len(final)*.5)]#X_train is assigned the first 70% of rows from final_bow_np.\n",
        "X_test = final_bow_np[math.ceil(len(final)*.5):]#X_test is assigned the remaining 30% of rows from final_bow_np.\n",
        "y_train = y[:math.ceil(len(final)*.5)]#y_train is assigned the first 70% of labels from y.\n",
        "y_test =  y[math.ceil(len(final)*.5):]  #The usage of *.7 in the code is a way to split the dataset into training and testing sets based on a percentage."
      ]
    },
    {
      "cell_type": "markdown",
      "metadata": {
        "id": "pNS_ChXyIpst"
      },
      "source": [
        "Finding Optimal alpha Cross validation\n",
        "\n"
      ]
    },
    {
      "cell_type": "code",
      "execution_count": null,
      "metadata": {
        "colab": {
          "base_uri": "https://localhost:8080/",
          "height": 655
        },
        "id": "ZDELb4R9IMjM",
        "outputId": "3a9ed4bf-3c9e-4f73-c3dd-e7e29a000da2"
      },
      "outputs": [
        {
          "output_type": "stream",
          "name": "stdout",
          "text": [
            "\n",
            "The optimal alpha is  0.00076\n",
            "the misclassification error for each k value is :  [0.278 0.278 0.278 0.278 0.278 0.278 0.278 0.278 0.278 0.278 0.278 0.278\n",
            " 0.278 0.278 0.278 0.278 0.278 0.278 0.278 0.278]\n",
            "0.00076\n"
          ]
        },
        {
          "output_type": "display_data",
          "data": {
            "text/plain": [
              "<Figure size 1000x600 with 1 Axes>"
            ],
            "image/png": "[encoded data removed]"
          },
          "metadata": {}
        }
      ],
      "source": [
        "from sklearn.naive_bayes import MultinomialNB\n",
        "\n",
        "myList = np.arange(0.00001, 0.001, 0.00005) #list(range(1,200))\n",
        "optimal_alpha = find_optimal_k(X_train ,y_train,myList)  #Optimal value of alpha may differ through runs because of the randomness in the train_test_split process\n",
        "\n",
        "print(optimal_alpha)"
      ]
    },
    {
      "cell_type": "markdown",
      "metadata": {
        "id": "FI5YcvpOJ8V5"
      },
      "source": [
        "Naive Bayes with Optimal alpha\n",
        "\n"
      ]
    },
    {
      "cell_type": "code",
      "execution_count": null,
      "metadata": {
        "id": "3CsFH1xqJ8JN"
      },
      "outputs": [],
      "source": [
        "nb = MultinomialNB(alpha = optimal_alpha)\n",
        "model = nb.fit(X_train, y_train)"
      ]
    },
    {
      "cell_type": "code",
      "execution_count": null,
      "metadata": {
        "id": "9QVI9bOgKA_7"
      },
      "outputs": [],
      "source": [
        "predbow = (model.predict(X_test))\n"
      ]
    },
    {
      "cell_type": "code",
      "execution_count": null,
      "metadata": {
        "id": "zXoTsea2KDkT"
      },
      "outputs": [],
      "source": [
        "predbowprob = model.predict_proba(X_test)"
      ]
    },
    {
      "cell_type": "code",
      "execution_count": null,
      "metadata": {
        "colab": {
          "base_uri": "https://localhost:8080/",
          "height": 490
        },
        "id": "eQN3-JEcKF19",
        "outputId": "52b761da-848e-467f-aafc-8b11cdeb9ff0"
      },
      "outputs": [
        {
          "output_type": "execute_result",
          "data": {
            "text/plain": [
              "<Axes: title={'center': 'Confusion Matrix'}, xlabel='Predicted label', ylabel='True label'>"
            ]
          },
          "metadata": {},
          "execution_count": 56
        },
        {
          "output_type": "display_data",
          "data": {
            "text/plain": [
              "<Figure size 640x480 with 2 Axes>"
            ],
            "image/png": "[encoded data removed]"
          },
          "metadata": {}
        }
      ],
      "source": [
        "skplt.plot_confusion_matrix(y_test ,predbow)\n"
      ]
    },
    {
      "cell_type": "code",
      "execution_count": null,
      "metadata": {
        "colab": {
          "base_uri": "https://localhost:8080/"
        },
        "id": "npParJG_KHMf",
        "outputId": "61b22c3a-8be9-4524-ece4-ea2fca4d7b92"
      },
      "outputs": [
        {
          "output_type": "stream",
          "name": "stdout",
          "text": [
            "              precision    recall  f1-score   support\n",
            "\n",
            "    negative       0.68      0.75      0.71     27332\n",
            "    positive       0.77      0.70      0.73     32048\n",
            "\n",
            "    accuracy                           0.72     59380\n",
            "   macro avg       0.72      0.72      0.72     59380\n",
            "weighted avg       0.73      0.72      0.72     59380\n",
            "\n"
          ]
        }
      ],
      "source": [
        "print(classification_report(y_test ,predbow))\n"
      ]
    },
    {
      "cell_type": "code",
      "execution_count": null,
      "metadata": {
        "colab": {
          "base_uri": "https://localhost:8080/"
        },
        "id": "wbWzUXr_KRWI",
        "outputId": "3a00e94d-5615-4ecb-dd9d-e1e23e736fc6"
      },
      "outputs": [
        {
          "output_type": "stream",
          "name": "stdout",
          "text": [
            "Accuracy for Naive Bayes model with Bag of Words is  0.722\n"
          ]
        }
      ],
      "source": [
        "print(\"Accuracy for Naive Bayes model with Bag of Words is \",round(accuracy_score(y_test ,predbow),3))"
      ]
    },
    {
      "cell_type": "markdown",
      "metadata": {
        "id": "b5WHkn5779Il"
      },
      "source": [
        "**APPLYING NAIVE BAYES WITH tf-tdf**"
      ]
    },
    {
      "cell_type": "markdown",
      "metadata": {
        "id": "11c-6uSW8CX1"
      },
      "source": [
        "Generating tf-idf (Team Frequency - Inverse Document Frequency) Vector matrix for Reviews\n",
        "\n"
      ]
    },
    {
      "cell_type": "code",
      "execution_count": null,
      "metadata": {
        "colab": {
          "background_save": true
        },
        "id": "kcPGrC9l8EBP"
      },
      "outputs": [],
      "source": [
        "from sklearn.feature_extraction.text import TfidfTransformer\n",
        "from sklearn.feature_extraction.text import TfidfVectorizer\n",
        "tf_idf_vec = TfidfVectorizer()\n",
        "\n",
        "final_tfidf_count = tf_idf_vec.fit_transform(final_string)\n",
        "\n",
        "from sklearn.preprocessing import StandardScaler\n",
        "\n",
        "final_tfidf_np = StandardScaler(with_mean=False).fit_transform(final_tfidf_count ) #mean=false implies data is sparse\n",
        "#Transforms the text data into a TF-IDF representation where each row corresponds to a document, and each column corresponds to a unique word."
      ]
    },
    {
      "cell_type": "markdown",
      "metadata": {
        "id": "jSz3dR1h8KR5"
      },
      "source": [
        "Splitting Data into Train and Test\n",
        "\n"
      ]
    },
    {
      "cell_type": "code",
      "execution_count": null,
      "metadata": {
        "colab": {
          "background_save": true
        },
        "id": "xroCxPYM8EiJ"
      },
      "outputs": [],
      "source": [
        "from sklearn import datasets\n",
        "from sklearn.neighbors import KNeighborsClassifier\n",
        "\n",
        "from sklearn.model_selection import train_test_split\n",
        "\n",
        "X = final_tfidf_np\n",
        "y = final['Score']\n",
        "\n",
        "X_train =  final_tfidf_np[:math.ceil(len(final)*.7)]\n",
        "X_test = final_tfidf_np[math.ceil(len(final)*.7):]\n",
        "y_train = y[:math.ceil(len(final)*.7)]\n",
        "y_test =  y[math.ceil(len(final)*.7):]"
      ]
    },
    {
      "cell_type": "markdown",
      "metadata": {
        "id": "EdgnFuv38Op2"
      },
      "source": [
        "Finding Optimal alpha Cross validation\n",
        "\n"
      ]
    },
    {
      "cell_type": "code",
      "execution_count": null,
      "metadata": {
        "colab": {
          "background_save": true
        },
        "id": "H56MIUTv8RgN",
        "outputId": "87826b03-f5ba-4fa6-97af-f1348ba52a81"
      },
      "outputs": [
        {
          "name": "stdout",
          "output_type": "stream",
          "text": [
            "\n",
            "The optimal alpha is  0.00021\n",
            "the misclassification error for each k value is :  [0.269 0.269 0.269 0.269 0.269 0.269 0.269 0.269 0.269 0.269 0.269 0.269\n",
            " 0.269 0.269 0.269 0.269 0.269 0.269 0.269 0.269]\n"
          ]
        },
        {
          "data": {
            "image/png": "[encoded data removed]",
            "text/plain": [
              "<Figure size 1000x600 with 1 Axes>"
            ]
          },
          "metadata": {},
          "output_type": "display_data"
        }
      ],
      "source": [
        "from sklearn.naive_bayes import MultinomialNB\n",
        "myList = np.arange(0.00001, 0.001, 0.00005)\n",
        "optimal_alpha = find_optimal_k(X_train ,y_train,myList)  #Optimal value of alpha may differ through runs because of the randomness in the train_test_split process"
      ]
    },
    {
      "cell_type": "markdown",
      "metadata": {
        "id": "lPlli45o8hF1"
      },
      "source": [
        "Naive Bayes with Optimal alpha\n",
        "\n"
      ]
    },
    {
      "cell_type": "code",
      "execution_count": null,
      "metadata": {
        "colab": {
          "background_save": true
        },
        "id": "NK_YIGHM8WW-"
      },
      "outputs": [],
      "source": [
        "from sklearn.naive_bayes import MultinomialNB\n",
        "nb = MultinomialNB(alpha = optimal_alpha)\n",
        "model = nb.fit(X_train, y_train)"
      ]
    },
    {
      "cell_type": "code",
      "execution_count": null,
      "metadata": {
        "colab": {
          "background_save": true
        },
        "id": "ScXptwED8v-p"
      },
      "outputs": [],
      "source": [
        "predtfidf = (model.predict(X_test))\n"
      ]
    },
    {
      "cell_type": "code",
      "execution_count": null,
      "metadata": {
        "colab": {
          "background_save": true
        },
        "id": "OInVX3U78xW9"
      },
      "outputs": [],
      "source": [
        "predtfidfprob = (model.predict_proba(X_test))"
      ]
    },
    {
      "cell_type": "code",
      "execution_count": null,
      "metadata": {
        "colab": {
          "background_save": true
        },
        "id": "OatIKank8zhv",
        "outputId": "50982dce-5549-4557-bc51-dc02429b1d4c"
      },
      "outputs": [
        {
          "data": {
            "text/plain": [
              "<Axes: title={'center': 'Confusion Matrix'}, xlabel='Predicted label', ylabel='True label'>"
            ]
          },
          "execution_count": 42,
          "metadata": {},
          "output_type": "execute_result"
        },
        {
          "data": {
            "image/png": "[encoded data removed]",
            "text/plain": [
              "<Figure size 640x480 with 2 Axes>"
            ]
          },
          "metadata": {},
          "output_type": "display_data"
        }
      ],
      "source": [
        "skplt.plot_confusion_matrix(y_test ,predtfidf)"
      ]
    },
    {
      "cell_type": "code",
      "execution_count": null,
      "metadata": {
        "colab": {
          "background_save": true
        },
        "id": "31Ki1MDX82RQ",
        "outputId": "df067e90-d8bc-42ed-ff71-549fa5bf5557"
      },
      "outputs": [
        {
          "name": "stdout",
          "output_type": "stream",
          "text": [
            "              precision    recall  f1-score   support\n",
            "\n",
            "    negative       0.69      0.74      0.71     16462\n",
            "    positive       0.76      0.71      0.74     19166\n",
            "\n",
            "    accuracy                           0.73     35628\n",
            "   macro avg       0.73      0.73      0.73     35628\n",
            "weighted avg       0.73      0.73      0.73     35628\n",
            "\n"
          ]
        }
      ],
      "source": [
        "print(classification_report(y_test ,predtfidf))"
      ]
    },
    {
      "cell_type": "code",
      "execution_count": null,
      "metadata": {
        "colab": {
          "background_save": true,
          "base_uri": "https://localhost:8080/"
        },
        "id": "cDVoAKu484M2",
        "outputId": "cf0e3da7-c1cf-452e-a934-303bdf43231e"
      },
      "outputs": [
        {
          "name": "stdout",
          "output_type": "stream",
          "text": [
            "Accuracy for Naive Bayes model with tf-id is  0.726\n"
          ]
        }
      ],
      "source": [
        "print(\"Accuracy for Naive Bayes model with tf-id is \",round(accuracy_score(y_test ,predtfidf),3))"
      ]
    },
    {
      "cell_type": "markdown",
      "metadata": {
        "id": "GcPuJEe09AVf"
      },
      "source": [
        "**OBSERVATION**"
      ]
    },
    {
      "cell_type": "markdown",
      "metadata": {
        "id": "-Ma_I6Vh9EGd"
      },
      "source": [
        "At the end of the Analysis we have two Naive Bayes model to compare with different Feature generation techniques, one with BoW and second with tf-idf. By comparing accuracy of models it's clear that both the model have almost equal accuracy more than 72%"
      ]
    }
  ],
  "metadata": {
    "colab": {
      "provenance": []
    },
    "kernelspec": {
      "display_name": "Python 3",
      "name": "python3"
    },
    "language_info": {
      "name": "python"
    }
  },
  "nbformat": 4,
  "nbformat_minor": 0
}